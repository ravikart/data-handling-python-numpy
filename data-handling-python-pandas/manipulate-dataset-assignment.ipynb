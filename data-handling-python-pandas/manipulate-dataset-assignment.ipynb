{
 "cells": [
  {
   "cell_type": "code",
   "execution_count": 83,
   "metadata": {},
   "outputs": [
    {
     "name": "stdout",
     "output_type": "stream",
     "text": [
      "(983, 17)\n"
     ]
    },
    {
     "ename": "AttributeError",
     "evalue": "'DataFrame' object has no attribute 'value_counts'",
     "output_type": "error",
     "traceback": [
      "\u001b[1;31m---------------------------------------------------------------------------\u001b[0m",
      "\u001b[1;31mAttributeError\u001b[0m                            Traceback (most recent call last)",
      "\u001b[1;32m<ipython-input-83-eca4bed39af8>\u001b[0m in \u001b[0;36m<module>\u001b[1;34m\u001b[0m\n\u001b[0;32m     15\u001b[0m \u001b[1;33m\u001b[0m\u001b[0m\n\u001b[0;32m     16\u001b[0m \u001b[0miris\u001b[0m \u001b[1;33m=\u001b[0m \u001b[0mcount\u001b[0m\u001b[1;33m.\u001b[0m\u001b[0mget_group\u001b[0m\u001b[1;33m(\u001b[0m\u001b[0mmaxRepeadetCity\u001b[0m\u001b[1;33m)\u001b[0m\u001b[1;33m\u001b[0m\u001b[1;33m\u001b[0m\u001b[0m\n\u001b[1;32m---> 17\u001b[1;33m \u001b[0mprint\u001b[0m\u001b[1;33m(\u001b[0m\u001b[0miris\u001b[0m\u001b[1;33m.\u001b[0m\u001b[0mvalue_counts\u001b[0m\u001b[1;33m(\u001b[0m\u001b[1;33m)\u001b[0m\u001b[1;33m)\u001b[0m\u001b[1;33m\u001b[0m\u001b[1;33m\u001b[0m\u001b[0m\n\u001b[0m\u001b[0;32m     18\u001b[0m \u001b[1;33m\u001b[0m\u001b[0m\n\u001b[0;32m     19\u001b[0m \u001b[0mgroupedData\u001b[0m \u001b[1;33m=\u001b[0m \u001b[0miris\u001b[0m\u001b[1;33m.\u001b[0m\u001b[0mgroupby\u001b[0m\u001b[1;33m(\u001b[0m\u001b[1;34m'Group'\u001b[0m\u001b[1;33m)\u001b[0m\u001b[1;33m.\u001b[0m\u001b[0msize\u001b[0m\u001b[1;33m(\u001b[0m\u001b[1;33m)\u001b[0m\u001b[1;33m\u001b[0m\u001b[1;33m\u001b[0m\u001b[0m\n",
      "\u001b[1;32mE:\\Anaconda3\\lib\\site-packages\\pandas\\core\\generic.py\u001b[0m in \u001b[0;36m__getattr__\u001b[1;34m(self, name)\u001b[0m\n\u001b[0;32m   5272\u001b[0m             \u001b[1;32mif\u001b[0m \u001b[0mself\u001b[0m\u001b[1;33m.\u001b[0m\u001b[0m_info_axis\u001b[0m\u001b[1;33m.\u001b[0m\u001b[0m_can_hold_identifiers_and_holds_name\u001b[0m\u001b[1;33m(\u001b[0m\u001b[0mname\u001b[0m\u001b[1;33m)\u001b[0m\u001b[1;33m:\u001b[0m\u001b[1;33m\u001b[0m\u001b[1;33m\u001b[0m\u001b[0m\n\u001b[0;32m   5273\u001b[0m                 \u001b[1;32mreturn\u001b[0m \u001b[0mself\u001b[0m\u001b[1;33m[\u001b[0m\u001b[0mname\u001b[0m\u001b[1;33m]\u001b[0m\u001b[1;33m\u001b[0m\u001b[1;33m\u001b[0m\u001b[0m\n\u001b[1;32m-> 5274\u001b[1;33m             \u001b[1;32mreturn\u001b[0m \u001b[0mobject\u001b[0m\u001b[1;33m.\u001b[0m\u001b[0m__getattribute__\u001b[0m\u001b[1;33m(\u001b[0m\u001b[0mself\u001b[0m\u001b[1;33m,\u001b[0m \u001b[0mname\u001b[0m\u001b[1;33m)\u001b[0m\u001b[1;33m\u001b[0m\u001b[1;33m\u001b[0m\u001b[0m\n\u001b[0m\u001b[0;32m   5275\u001b[0m \u001b[1;33m\u001b[0m\u001b[0m\n\u001b[0;32m   5276\u001b[0m     \u001b[1;32mdef\u001b[0m \u001b[0m__setattr__\u001b[0m\u001b[1;33m(\u001b[0m\u001b[0mself\u001b[0m\u001b[1;33m,\u001b[0m \u001b[0mname\u001b[0m\u001b[1;33m:\u001b[0m \u001b[0mstr\u001b[0m\u001b[1;33m,\u001b[0m \u001b[0mvalue\u001b[0m\u001b[1;33m)\u001b[0m \u001b[1;33m->\u001b[0m \u001b[1;32mNone\u001b[0m\u001b[1;33m:\u001b[0m\u001b[1;33m\u001b[0m\u001b[1;33m\u001b[0m\u001b[0m\n",
      "\u001b[1;31mAttributeError\u001b[0m: 'DataFrame' object has no attribute 'value_counts'"
     ]
    }
   ],
   "source": [
    "import pandas as pd\n",
    "iris = pd.read_csv(\"terrorismData.csv\")\n",
    "#print(iris)\n",
    "iris = iris[iris['Country'] == 'India']\n",
    "iris = iris[iris['State'] == 'Jammu and Kashmir']\n",
    "iris = iris[iris['Group'] != 'Unknown']\n",
    "\n",
    "print(iris.shape)\n",
    "\n",
    "count = iris.groupby('City')\n",
    "\n",
    "#print(count.value_counts())\n",
    "\n",
    "maxRepeadetCity = count.size().idxmax()\n",
    "\n",
    "iris = count.get_group(maxRepeadetCity)\n",
    "print(iris.value_counts())\n",
    "\n",
    "groupedData = iris.groupby('Group').size()\n",
    "\n",
    "print(maxRepeadetCity,count.size().max(),groupedData.idxmax(),sep=\" \")"
   ]
  },
  {
   "cell_type": "code",
   "execution_count": null,
   "metadata": {},
   "outputs": [],
   "source": []
  },
  {
   "cell_type": "code",
   "execution_count": 111,
   "metadata": {},
   "outputs": [
    {
     "name": "stdout",
     "output_type": "stream",
     "text": [
      "Iraq\n",
      "24636\n",
      "Iraq 24636 2014\n"
     ]
    }
   ],
   "source": [
    "import pandas as pd\n",
    "iris = pd.read_csv(\"terrorismData.csv\")\n",
    "countryCount = iris['Country'].value_counts()\n",
    "countryName = countryCount.index[0]\n",
    "#print(countryCount.index[0])\n",
    "#print(countryCount.values[0])\n",
    "attackCount = countryCount.values[0]\n",
    "iris = iris[iris['Country'] == countryName]\n",
    "yearCount = iris['Year'].value_counts()\n",
    "year = yearCount.index[0]\n",
    "\n",
    "print(countryName,attackCount,year,sep=\" \")"
   ]
  },
  {
   "cell_type": "code",
   "execution_count": 80,
   "metadata": {},
   "outputs": [
    {
     "name": "stdout",
     "output_type": "stream",
     "text": [
      "Srinagar     657\n",
      "Sopore       102\n",
      "Unknown       86\n",
      "Anantnag      76\n",
      "Jammu         57\n",
      "            ... \n",
      "Samnoo         1\n",
      "Aripal         1\n",
      "Sonimarg       1\n",
      "Matribugh      1\n",
      "Sayiwan        1\n",
      "Name: City, Length: 633, dtype: int64\n",
      "Srinagar\n",
      "657\n",
      "Srinagar 657 Muslim Separatists\n"
     ]
    }
   ],
   "source": [
    "import pandas as pd \n",
    "path='terrorismData.csv'\n",
    "df_terrorism=pd.read_csv(path,encoding='ISO-8859-1')\n",
    "df_terrorism=df_terrorism[df_terrorism['State']=='Jammu and Kashmir'] \n",
    "city_list=df_terrorism['City'].value_counts() \n",
    "print(city_list)\n",
    "\n",
    "city=city_list.index[0] \n",
    "print(city)\n",
    "attack=city_list.values[0]\n",
    "print(attack)\n",
    "\n",
    "df_terrorism=df_terrorism[df_terrorism['City']==city] \n",
    "group=df_terrorism['Group'].value_counts().index[1]\n",
    "print(city,attack,group)"
   ]
  },
  {
   "cell_type": "code",
   "execution_count": 140,
   "metadata": {},
   "outputs": [
    {
     "name": "stdout",
     "output_type": "stream",
     "text": [
      "1570 Iraq Islamic State of Iraq and the Levant (ISIL)\n"
     ]
    }
   ],
   "source": [
    "import pandas as pd\n",
    "path='terrorismData.csv'\n",
    "df_terrorism=pd.read_csv(path,encoding='ISO-8859-1')\n",
    "df_terrorism['Killed'] = df_terrorism['Killed'].fillna(0.0)\n",
    "\n",
    "df_terrorism.sort_values('Killed',inplace=True,ascending=False)\n",
    "\n",
    "data = df_terrorism.iloc[0:1,:]\n",
    "value  = data.values[0]\n",
    "print(int(value[10]),value[3],value[14],sep=\" \")"
   ]
  },
  {
   "cell_type": "code",
   "execution_count": 197,
   "metadata": {},
   "outputs": [
    {
     "name": "stdout",
     "output_type": "stream",
     "text": [
      "        Year  Month  Day Country              State      Region  \\\n",
      "1186    1972      2   22   India              Delhi  South Asia   \n",
      "2764    1975      1    2   India              Bihar  South Asia   \n",
      "3857    1976      5   26   India              Delhi  South Asia   \n",
      "5327    1977      9   28   India        Maharashtra  South Asia   \n",
      "7337    1979      1   13   India              Assam  South Asia   \n",
      "...      ...    ...  ...     ...                ...         ...   \n",
      "181663  2017     12   30   India             Kerala  South Asia   \n",
      "181665  2017     12   30   India       Chhattisgarh  South Asia   \n",
      "181672  2017     12   31   India  Jammu and Kashmir  South Asia   \n",
      "181684  2017     12   31   India              Assam  South Asia   \n",
      "181689  2017     12   31   India            Manipur  South Asia   \n",
      "\n",
      "                 City   Latitude  Longitude                      AttackType  \\\n",
      "1186        New Delhi  28.585836  77.153336                       Hijacking   \n",
      "2764       Samastipur  25.863042  85.781004               Bombing/Explosion   \n",
      "3857        New Delhi  28.585836  77.153336               Bombing/Explosion   \n",
      "5327           Bombay  19.075984  72.877656                       Hijacking   \n",
      "7337          Unknown  26.200605  92.937574                   Armed Assault   \n",
      "...               ...        ...        ...                             ...   \n",
      "181663  Koothuparamba  11.831902  75.565432               Bombing/Explosion   \n",
      "181665       Toylanka  18.802725  81.497666  Facility/Infrastructure Attack   \n",
      "181672      Lethapora  33.966527  74.964225                   Armed Assault   \n",
      "181684        Hungrum  25.180162  93.015788     Hostage Taking (Kidnapping)   \n",
      "181689         Imphal  24.798346  93.940430               Bombing/Explosion   \n",
      "\n",
      "        Killed  Wounded                                             Target  \\\n",
      "1186       0.0      0.0                                              B-747   \n",
      "2764       4.0      0.0              Lalit Narayan Mishra and a legislator   \n",
      "3857       0.0      0.0                                  New Delhi airport   \n",
      "5327       0.0      0.0                                               DC-8   \n",
      "7337       NaN      NaN                                             patrol   \n",
      "...        ...      ...                                                ...   \n",
      "181663     0.0      0.0                       Koothuparamba Police Station   \n",
      "181665     0.0      0.0                             Road Construction Site   \n",
      "181672     8.0      3.0                                               Camp   \n",
      "181684     0.0      0.0  Personal Security Officer of Council Member Ih...   \n",
      "181689     0.0      0.0                                             Office   \n",
      "\n",
      "                                                  Summary  \\\n",
      "1186                                                  NaN   \n",
      "2764    1/2/1975: The Indian Railway Minister, Lalit N...   \n",
      "3857                                                  NaN   \n",
      "5327                                                  NaN   \n",
      "7337                                                  NaN   \n",
      "...                                                   ...   \n",
      "181663  12/30/2017: Assailants threw an explosive devi...   \n",
      "181665  12/30/2017: Assailants set fire to seven vehic...   \n",
      "181672  12/31/2017: Assailants armed with grenades and...   \n",
      "181684  12/31/2017: Assailants abducted Prafulla Phuka...   \n",
      "181689  12/31/2017: Assailants threw a grenade at a Fo...   \n",
      "\n",
      "                                                 Group           Target_type  \\\n",
      "1186                                      Palestinians   Airports & Aircraft   \n",
      "2764                                      Ananda Marga  Government (General)   \n",
      "3857                                           Unknown   Airports & Aircraft   \n",
      "5327                           Japanese Red Army (JRA)   Airports & Aircraft   \n",
      "7337                                       Naga People                Police   \n",
      "...                                                ...                   ...   \n",
      "181663                                         Unknown                Police   \n",
      "181665  Communist Party of India - Maoist (CPI-Maoist)              Business   \n",
      "181672                          Jaish-e-Mohammad (JeM)                Police   \n",
      "181684                        Zeliangrong United Front  Government (General)   \n",
      "181689                                         Unknown  Government (General)   \n",
      "\n",
      "       Weapon_type attack-date  \n",
      "1186    Explosives              \n",
      "2764    Explosives              \n",
      "3857    Explosives              \n",
      "5327      Firearms              \n",
      "7337      Firearms              \n",
      "...            ...         ...  \n",
      "181663  Explosives              \n",
      "181665    Firearms              \n",
      "181672  Explosives              \n",
      "181684    Firearms              \n",
      "181689  Explosives              \n",
      "\n",
      "[11960 rows x 18 columns]\n"
     ]
    }
   ],
   "source": [
    "import pandas as pd\n",
    "path='terrorismData.csv'\n",
    "df_tr_data =pd.read_csv(path,encoding='ISO-8859-1')\n",
    "df_tr_data.loc[:,'attack-date'] = ''\n",
    "\n",
    "groupedData = df_tr_data.groupby('Country')\n",
    "\n",
    "indiaData = groupedData.get_group('India')\n",
    "print(indiaData)\n",
    "\n",
    "#indiaData['attack-date'] = pd.to_datetime(indiaData.iloc[:,0:3], errors='ignore')\n",
    "#indiaData = indiaData[indiaData['attack-date'] >= 20140526]\n",
    "#count = indiaData.shape[0]\n",
    "#indiaData = indiaData[indiaData['Group'] != 'Unknown']\n",
    "#data = indiaData['Group'].value_counts()\n",
    "#print(count,data.index[0],sep=\" \")\n",
    "#print(data.index[0])\n",
    "#print(data.values[0])"
   ]
  },
  {
   "cell_type": "code",
   "execution_count": 178,
   "metadata": {},
   "outputs": [
    {
     "name": "stdout",
     "output_type": "stream",
     "text": [
      "3336 Maoists\n"
     ]
    }
   ],
   "source": [
    "import pandas as pd\n",
    "path='terrorismData.csv'\n",
    "df_terrorism=pd.read_csv(path,encoding='ISO-8859-1')\n",
    "df_terrorism=df_terrorism[df_terrorism['Country']=='India']\n",
    "df_terrorism=df_terrorism[(df_terrorism['Year'] >=2014)]\n",
    "indexNum1=df_terrorism[(df_terrorism['Year']==2014) & (df_terrorism['Month'] < 5)].index\n",
    "indexNum2=df_terrorism[(df_terrorism['Year']==2014) & (df_terrorism['Month']==5) &\n",
    "(df_terrorism['Day'] < 26)].index\n",
    "# Delete these row indexes from dataFrame\n",
    "df_terrorism.drop(indexNum1 , inplace=True)\n",
    "df_terrorism.drop(indexNum2 , inplace=True)\n",
    "attack=df_terrorism.shape[0]\n",
    "group=df_terrorism['Group'].value_counts().index[1]\n",
    "print(attack,group)"
   ]
  },
  {
   "cell_type": "code",
   "execution_count": 193,
   "metadata": {},
   "outputs": [
    {
     "name": "stdout",
     "output_type": "stream",
     "text": [
      "383 148\n"
     ]
    }
   ],
   "source": [
    "import pandas as pd\n",
    "path='terrorismData.csv'\n",
    "df_terrorism=pd.read_csv(path,encoding='ISO-8859-1')\n",
    "df_terrorism['Killed'] = df_terrorism['Killed'].fillna(0.0)\n",
    "df_terrorism['Wounded'] = df_terrorism['Wounded'].fillna(0.0)\n",
    "df_terrorism['Casualty'] = df_terrorism['Killed'] + df_terrorism['Wounded']\n",
    "\n",
    "df_jK = df_terrorism.copy()\n",
    "df_jK = df_jK[df_jK['State'] == 'Jammu and Kashmir']\n",
    "df_terrorism = df_terrorism[df_terrorism['State'].isin(['Jharkhand','Odisha','Andhra Pradesh','Chhattisgarh'])]\n",
    "minYear = df_terrorism['Year'].min()\n",
    "maxYear = df_terrorism['Year'].max()\n",
    "noOfYear = maxYear - minYear\n",
    "sumOfCasualities1 = df_terrorism['Casualty'].sum()\n",
    "\n",
    "frequency1 =  sumOfCasualities1//noOfYear\n",
    "\n",
    "minYear = df_jK['Year'].min()\n",
    "maxYear = df_jK['Year'].max()\n",
    "noOfYear = maxYear - minYear\n",
    "sumOfCasualities2 = df_jK['Casualty'].sum()\n",
    "frequency2 = int(sumOfCasualities2/noOfYear)\n",
    "print(int(frequency2),int(frequency1),sep=\" \")"
   ]
  }
 ],
 "metadata": {
  "kernelspec": {
   "display_name": "Python 3",
   "language": "python",
   "name": "python3"
  },
  "language_info": {
   "codemirror_mode": {
    "name": "ipython",
    "version": 3
   },
   "file_extension": ".py",
   "mimetype": "text/x-python",
   "name": "python",
   "nbconvert_exporter": "python",
   "pygments_lexer": "ipython3",
   "version": "3.7.6"
  }
 },
 "nbformat": 4,
 "nbformat_minor": 4
}
