{
 "cells": [
  {
   "cell_type": "code",
   "execution_count": 11,
   "metadata": {},
   "outputs": [
    {
     "name": "stdout",
     "output_type": "stream",
     "text": [
      "66330\n"
     ]
    }
   ],
   "source": [
    "import csv\n",
    "import numpy as np\n",
    "\n",
    "with open('terrorismData.csv','r',encoding='utf-8') as fileObject:\n",
    "    fileData  = csv.DictReader(fileObject,delimiter=',',skipinitialspace=True)\n",
    "    \n",
    "    killed=[]\n",
    "    Day = []\n",
    "    for row in fileData:\n",
    "        #print(row['Killed'])\n",
    "        if(row['Killed'] == ''):\n",
    "            killed.append(0)\n",
    "        else:\n",
    "            killed.append(int(float(row['Killed'])))\n",
    "        Day.append(int(float(row['Day'])))\n",
    "        \n",
    "    np_killed = np.array(killed)\n",
    "    np_day = np.array(Day)\n",
    "    boolean_arr = np.logical_and(np_day >= 10,np_day<=20)  \n",
    "    resultData= np_day[boolean_arr]\n",
    "    result = np.shape(resultData)\n",
    "    print(result[0])\n",
    "    "
   ]
  },
  {
   "cell_type": "code",
   "execution_count": 28,
   "metadata": {
    "scrolled": true
   },
   "outputs": [
    {
     "name": "stdout",
     "output_type": "stream",
     "text": [
      "271\n"
     ]
    }
   ],
   "source": [
    "import csv\n",
    "import numpy as np\n",
    "\n",
    "with open('terrorismData.csv','r',encoding='utf-8') as fileObject:\n",
    "    fileData  = csv.DictReader(fileObject,delimiter=',',skipinitialspace=True)\n",
    "    \n",
    "    Year=[]\n",
    "    Day = []\n",
    "    Month = []\n",
    "    for row in fileData:\n",
    "        #print(row['Killed'])\n",
    "        Month.append(int(float(row['Month'])))\n",
    "        Year.append(int(float(row['Year'])))\n",
    "        Day.append(int(float(row['Day'])))\n",
    "        \n",
    "    np_month = np.array(Month)\n",
    "    np_day = np.array(Day)\n",
    "    np_year = np.array(Year)\n",
    "    boolean_arr = np.where(np_year == 2010)\n",
    "    boolean_month = np_month[boolean_arr]\n",
    "    boolean_day = np_day[boolean_arr]\n",
    "    boolean_arr = np.where(boolean_month == 1)\n",
    "    boolean_day = boolean_day[boolean_arr]\n",
    "    \n",
    "    dayCount = np.where(boolean_day != 0)\n",
    "    \n",
    "    print(np.shape(boolean_day[dayCount])[0])    "
   ]
  },
  {
   "cell_type": "code",
   "execution_count": 91,
   "metadata": {},
   "outputs": [
    {
     "name": "stdout",
     "output_type": "stream",
     "text": [
      "22 Kargil District Separatists\n"
     ]
    }
   ],
   "source": [
    "import csv\n",
    "import numpy as np\n",
    "\n",
    "with open('terrorismData.csv','r',encoding='utf-8') as fileObject:\n",
    "    fileData  = csv.DictReader(fileObject,delimiter=',',skipinitialspace=True)\n",
    "    \n",
    "    data = []\n",
    "    for row in fileData:\n",
    "        if(row['Country'] == 'India') and row['State'] == 'Jammu and Kashmir':\n",
    "            if(row['Killed'] == ''):\n",
    "                row['Killed'] = '0.0'\n",
    "            if(row['Wounded'] == ''):\n",
    "                row['Wounded'] = '0.0'\n",
    "            \n",
    "            casualities = int(float(row['Killed'])) + int(float(row['Wounded']))\n",
    "            \n",
    "            data.append([int(float(row['Year'])),int(float(row['Month'])),casualities,row['City'],row['Group']])\n",
    "        \n",
    "arrayData = np.array(data)\n",
    "arrayData = arrayData[arrayData[:,0] == '1999']\n",
    "value = arrayData[:,0:3].astype(int)\n",
    "boolarray = np.logical_and(value[:,1] >= 5 , value[:,1] <= 7)\n",
    "finalArray = arrayData[boolarray]\n",
    "    \n",
    "result = finalArray[np.argmax(finalArray[:,2].astype(int))]\n",
    "print(*result[2:])"
   ]
  },
  {
   "cell_type": "code",
   "execution_count": 53,
   "metadata": {},
   "outputs": [
    {
     "name": "stdout",
     "output_type": "stream",
     "text": [
      "5628\n"
     ]
    }
   ],
   "source": [
    "import csv\n",
    "import numpy as np\n",
    "\n",
    "with open('terrorismData.csv','r',encoding='utf-8') as fileObject:\n",
    "    fileData  = csv.DictReader(fileObject,delimiter=',',skipinitialspace=True)\n",
    "    \n",
    "    data = []\n",
    "    for row in fileData:\n",
    "        if(row['Killed'] == ''):\n",
    "            row['Killed'] = '0.0'\n",
    "        if(row['Wounded'] == ''):\n",
    "            row['Wounded'] = '0.0'\n",
    "            \n",
    "        casualities = int(float(row['Killed'])) + int(float(row['Wounded']))\n",
    "            \n",
    "        data.append([casualities,row['State']])\n",
    "        \n",
    "    arrayData = np.array(data)\n",
    "    array = np.isin(arrayData[:,1],['Jharkhand','Odisha','Andhra Pradesh','Chhattisgarh'])\n",
    "    resultArray = arrayData[array]\n",
    "    casualityList = resultArray[:,0].astype(int)\n",
    "    \n",
    "    print(sum(casualityList))"
   ]
  },
  {
   "cell_type": "code",
   "execution_count": 79,
   "metadata": {},
   "outputs": [
    {
     "name": "stdout",
     "output_type": "stream",
     "text": [
      "Srinagar 3134\n",
      "New Delhi 2095\n",
      "Mumbai 2016\n",
      "Jammu 1119\n",
      "Guwahati 822\n"
     ]
    }
   ],
   "source": [
    "import csv\n",
    "import numpy as np\n",
    "\n",
    "with open('terrorismData.csv','r',encoding='utf-8') as fileObject:\n",
    "    fileData  = csv.DictReader(fileObject,delimiter=',',skipinitialspace=True)\n",
    "    \n",
    "    data = []\n",
    "    for row in fileData:\n",
    "        if(row['Killed'] == ''):\n",
    "            row['Killed'] = '0.0'\n",
    "        if(row['Wounded'] == ''):\n",
    "            row['Wounded'] = '0.0'\n",
    "            \n",
    "        casualities = int(float(row['Killed'])) + int(float(row['Wounded']))\n",
    "            \n",
    "        data.append([casualities,row['Country'],row['City']])\n",
    "        \n",
    "    arrayData = np.array(data)\n",
    "    arrayData = arrayData[arrayData[:,1] == 'India']\n",
    "    arrayData = arrayData[arrayData[:,2] != 'Unknown']\n",
    "    \n",
    "    uniqueCityList = np.unique(arrayData[:,2])\n",
    "    Data = []\n",
    "    for i in uniqueCityList:\n",
    "        index = np.where(arrayData[:,2] == i)\n",
    "        citywiseCasualities = arrayData[index]\n",
    "        Data.append([i,np.sum(citywiseCasualities[:,0].astype(int))])\n",
    "        \n",
    "    result = np.array(Data)\n",
    "    resultArray = np.argsort(result[:,1].astype(int))[::-1]\n",
    "    result = result[resultArray]\n",
    "    \n",
    "    for i in result[:5]:\n",
    "        print(i[0],i[1],sep=\" \")"
   ]
  },
  {
   "cell_type": "code",
   "execution_count": 80,
   "metadata": {},
   "outputs": [
    {
     "name": "stdout",
     "output_type": "stream",
     "text": [
      "Srinagar 3134\n",
      "New Delhi 2095\n",
      "Mumbai 2016\n",
      "Jammu 1119\n",
      "Guwahati 822\n"
     ]
    }
   ],
   "source": [
    "import csv\n",
    "import numpy as np\n",
    "\n",
    "path='terrorismData.csv'\n",
    "casualty=[]\n",
    "city=[]\n",
    "## Here we filter out the data\n",
    "with open(path, 'r',encoding='ISO-8859-1') as data:\n",
    "    reader = csv.DictReader(data)\n",
    "    for row in reader:\n",
    "        if row['Country']=='India':\n",
    "            city.append(row['City'])\n",
    "            casualty.append([row['Killed'],row['Wounded']])\n",
    "            \n",
    "npcasualty=np.array(casualty)\n",
    "npcity=np.array(city)\n",
    "## Coverting the empty values present in Killed and wounded feature to Zero\n",
    "npcasualty[npcasualty=='']=0\n",
    "## Converting the string value to float\n",
    "npcasualty=np.array(npcasualty,dtype=float)\n",
    "## Now Summing up the Killed and wounded feature to find out the casualty\n",
    "npcasualty=np.sum(npcasualty,axis=1)\n",
    "\n",
    "def cityCasualty(cityarr,casualtyarr):\n",
    "    arr=[]\n",
    "    unique=np.unique(cityarr)\n",
    "    for i in unique:\n",
    "        index,=np.where(cityarr==i)\n",
    "        sumCasualty= casualtyarr[index].sum()\n",
    "        arr.append([sumCasualty,i])\n",
    "        \n",
    "    arr.sort(reverse=True)\n",
    "    return arr\n",
    "\n",
    "arr=cityCasualty(npcity,npcasualty)\n",
    "for i in range(6):\n",
    "    if arr[i][1]!='Unknown':\n",
    "        print(arr[i][1],int(arr[i][0]))"
   ]
  },
  {
   "cell_type": "code",
   "execution_count": 89,
   "metadata": {},
   "outputs": [
    {
     "name": "stdout",
     "output_type": "stream",
     "text": [
      "15 6500\n"
     ]
    }
   ],
   "source": [
    "import csv\n",
    "import numpy as np\n",
    "\n",
    "path='terrorismData.csv'\n",
    "Day=[]\n",
    "## Here we filter out the data\n",
    "with open(path, 'r',encoding='ISO-8859-1') as data:\n",
    "    reader = csv.DictReader(data)\n",
    "    for row in reader:\n",
    "        Day.append(row['Day'])\n",
    "        \n",
    "np_day = np.array(Day)\n",
    "uniqueDay = np.unique(Day)\n",
    "Day = []\n",
    "for i in uniqueDay:\n",
    "    size = np.shape(np_day[np_day == i])[0]\n",
    "    Day.append([i,size])\n",
    "        \n",
    "np_day = np.array(Day)\n",
    "\n",
    "index = np.argmax(np_day[:,1].astype(int))\n",
    "result = np_day[index]\n",
    "print(*result)\n",
    "            "
   ]
  }
 ],
 "metadata": {
  "kernelspec": {
   "display_name": "Python 3",
   "language": "python",
   "name": "python3"
  },
  "language_info": {
   "codemirror_mode": {
    "name": "ipython",
    "version": 3
   },
   "file_extension": ".py",
   "mimetype": "text/x-python",
   "name": "python",
   "nbconvert_exporter": "python",
   "pygments_lexer": "ipython3",
   "version": "3.7.6"
  }
 },
 "nbformat": 4,
 "nbformat_minor": 4
}
