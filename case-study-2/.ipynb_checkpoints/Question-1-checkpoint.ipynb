{
 "cells": [
  {
   "cell_type": "code",
   "execution_count": 26,
   "metadata": {},
   "outputs": [
    {
     "name": "stdout",
     "output_type": "stream",
     "text": [
      "Bangalore  8422974108.0\n",
      "Mumbai  2354934500.0\n",
      "Gurgaon  2069021500.0\n",
      "Noida  170638000.0\n",
      "New Delhi  2817247500.0\n",
      "[8422974108.0, 2354934500.0, 2069021500.0, 170638000.0, 2817247500.0]\n"
     ]
    },
    {
     "data": {
      "image/png": "[encoded data removed]",
      "text/plain": [
       "<Figure size 432x288 with 1 Axes>"
      ]
     },
     "metadata": {
      "needs_background": "light"
     },
     "output_type": "display_data"
    }
   ],
   "source": [
    "import pandas as pd\n",
    "import numpy as np\n",
    "import matplotlib.pyplot as plt\n",
    "\n",
    "startUpDataSet = pd.read_csv('startup_funding.csv',encoding='utf-8')\n",
    "\n",
    "preferredCityList = ['Bangalore','Mumbai','Gurgaon','Noida','New Delhi']\n",
    "\n",
    "#dropna\n",
    "startUpDataSet['CityLocation'].dropna(inplace=True)\n",
    "\n",
    "def separateCity(city):\n",
    "    return city.split('/')[0].strip()\n",
    "\n",
    "startUpDataSet['CityLocation'] = startUpDataSet['CityLocation'].apply(separateCity)\n",
    "\n",
    "#rename city names to standard one\n",
    "startUpDataSet['CityLocation'].replace('Delphi','New Delhi',inplace=True)\n",
    "startUpDataSet['CityLocation'].replace('bangalore','Bangalore',inplace=True)\n",
    "\n",
    "#Convert AmountInUSD object column to numeric \n",
    "startUpDataSet['AmountInUSD'] = startUpDataSet['AmountInUSD'].apply(lambda x: float(str(x).replace(\",\",\"\")))\n",
    "startUpDataSet['AmountInUSD'] = pd.to_numeric(startUpDataSet['AmountInUSD'])\n",
    "\n",
    "top_invested_cities = startUpDataSet.groupby('CityLocation')['AmountInUSD'].sum().sort_values(ascending=False)\n",
    "\n",
    "investmentList = []\n",
    "for i in preferredCityList:\n",
    "    investmentList.append(top_invested_cities[i])\n",
    "    print(i,top_invested_cities[i],sep=\"  \")\n",
    "    \n",
    "print(investmentList)\n",
    "percentage = np.true_divide(investmentList,sum(investmentList))*100\n",
    "\n",
    "y_pos = [10,35,60,85,105]\n",
    "performance = [100,75,50,25,0]\n",
    "\n",
    "plt.bar(y_pos, percentage,width=10)\n",
    "plt.xticks(y_pos, preferredCityList)\n",
    "plt.ylabel('Usage')\n",
    "plt.title('Investment in preferred cities')\n",
    "\n",
    "plt.show()"
   ]
  }
 ],
 "metadata": {
  "kernelspec": {
   "display_name": "Python 3",
   "language": "python",
   "name": "python3"
  },
  "language_info": {
   "codemirror_mode": {
    "name": "ipython",
    "version": 3
   },
   "file_extension": ".py",
   "mimetype": "text/x-python",
   "name": "python",
   "nbconvert_exporter": "python",
   "pygments_lexer": "ipython3",
   "version": "3.7.6"
  }
 },
 "nbformat": 4,
 "nbformat_minor": 4
}
