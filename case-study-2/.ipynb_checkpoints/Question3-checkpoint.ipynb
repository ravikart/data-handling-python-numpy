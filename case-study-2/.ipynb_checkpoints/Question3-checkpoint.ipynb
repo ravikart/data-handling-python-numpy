{
 "cells": [
  {
   "cell_type": "code",
   "execution_count": 61,
   "metadata": {},
   "outputs": [
    {
     "name": "stdout",
     "output_type": "stream",
     "text": [
      "38\n",
      "                       0\n",
      "Sequoia Capital       48\n",
      "Accel Partners        47\n",
      "Kalaari Capital       41\n",
      "Indian Angel Network  40\n",
      "Blume Ventures        36\n",
      "Ratan Tata            30\n",
      "SAIF Partners         29\n",
      "Rajan Anandan         23\n"
     ]
    }
   ],
   "source": [
    "import matplotlib.pyplot as plt\n",
    "import pandas as pd\n",
    "import numpy as np \n",
    "\n",
    "\n",
    "startUpData = pd.read_csv(\"startup_funding.csv\",encoding='utf-8')\n",
    "\n",
    "startUpData['StartupName'] = startUpData['StartupName'].str.replace(\"Flipkart.com\",\"Flipkart\")\n",
    "startUpData['StartupName'] = startUpData['StartupName'].str.replace(\"Oyo Rooms\",\"Oyo\")\n",
    "startUpData['StartupName'] = startUpData['StartupName'].str.replace(\"OyoRooms\",\"Oyo\")\n",
    "startUpData['StartupName'] = startUpData['StartupName'].str.replace(\"Oyorooms\",\"Oyo\")\n",
    "startUpData['StartupName'] = startUpData['StartupName'].str.replace(\"OYO Rooms\",\"Oyo\")\n",
    "startUpData['StartupName'] = startUpData['StartupName'].str.replace(\"Paytm Marketplace\",\"Paytm\")\n",
    "startUpData['StartupName'] = startUpData['StartupName'].str.replace(\"Ola Cabs\",\"Ola\")\n",
    "startUpData['StartupName'] = startUpData['StartupName'].str.replace(\"Olacabs\",\"Ola\")\n",
    "\n",
    "startUpData['InvestorsName'].fillna(\"--\",inplace=True)\n",
    "\n",
    "startUpData = startUpData.assign(InvestorsName=startUpData.InvestorsName.str.split(',')).explode('InvestorsName')\n",
    "#print(startUpData.info())\n",
    "\n",
    "startUpData['InvestorsName'] = startUpData['InvestorsName'].str.strip()\n",
    "\n",
    "investorGroup = startUpData.groupby('InvestorsName')\n",
    "\n",
    "uniqueInvestorList = startUpData['InvestorsName'].unique()\n",
    "\n",
    "dictionary = {}\n",
    "for investor in uniqueInvestorList:\n",
    "    if investor == \"--\" or investor.startswith('Undisclosed') or investor == \"\":\n",
    "        continue\n",
    "    else:\n",
    "        groupValue = investorGroup.get_group(investor)\n",
    "        count = len(groupValue['StartupName'].unique())\n",
    "        dictionary[investor] = count\n",
    "        \n",
    "\n",
    "investorDataFrame = pd.DataFrame(list(dictionary.values()),list(dictionary.keys()))\n",
    "investorDataFrame = investorDataFrame.sort_values(by=[0],ascending=False)\n",
    "print(investorDataFrame[:8])"
   ]
  }
 ],
 "metadata": {
  "kernelspec": {
   "display_name": "Python 3",
   "language": "python",
   "name": "python3"
  },
  "language_info": {
   "codemirror_mode": {
    "name": "ipython",
    "version": 3
   },
   "file_extension": ".py",
   "mimetype": "text/x-python",
   "name": "python",
   "nbconvert_exporter": "python",
   "pygments_lexer": "ipython3",
   "version": "3.7.6"
  }
 },
 "nbformat": 4,
 "nbformat_minor": 4
}
