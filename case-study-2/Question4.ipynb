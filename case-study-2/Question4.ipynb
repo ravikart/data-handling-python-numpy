{
 "cells": [
  {
   "cell_type": "code",
   "execution_count": 13,
   "metadata": {},
   "outputs": [
    {
     "name": "stdout",
     "output_type": "stream",
     "text": [
      "Indian Angel Network invested 33 times as Seed Funding or Crowd Funding\n",
      "Rajan Anandan invested 23 times as Seed Funding or Crowd Funding\n",
      "LetsVenture invested 16 times as Seed Funding or Crowd Funding\n",
      "Anupam Mittal invested 16 times as Seed Funding or Crowd Funding\n",
      "Group of Angel Investors invested 14 times as Seed Funding or Crowd Funding\n",
      "Question -4:--\n"
     ]
    },
    {
     "data": {
      "image/png": "[encoded data removed]",
      "text/plain": [
       "<Figure size 432x288 with 1 Axes>"
      ]
     },
     "metadata": {
      "needs_background": "light"
     },
     "output_type": "display_data"
    }
   ],
   "source": [
    "import matplotlib.pyplot as plt\n",
    "import pandas as pd\n",
    "import numpy as np \n",
    "\n",
    "\n",
    "startUpData = pd.read_csv(\"startup_funding.csv\",encoding='utf-8')\n",
    "\n",
    "##Change the important startUp name to correct name\n",
    "startUpData['StartupName'] = startUpData['StartupName'].str.replace(\"Flipkart.com\",\"Flipkart\")\n",
    "startUpData['StartupName'] = startUpData['StartupName'].str.replace(\"Oyo Rooms\",\"Oyo\")\n",
    "startUpData['StartupName'] = startUpData['StartupName'].str.replace(\"OyoRooms\",\"Oyo\")\n",
    "startUpData['StartupName'] = startUpData['StartupName'].str.replace(\"Oyorooms\",\"Oyo\")\n",
    "startUpData['StartupName'] = startUpData['StartupName'].str.replace(\"OYO Rooms\",\"Oyo\")\n",
    "startUpData['StartupName'] = startUpData['StartupName'].str.replace(\"Paytm Marketplace\",\"Paytm\")\n",
    "startUpData['StartupName'] = startUpData['StartupName'].str.replace(\"Ola Cabs\",\"Ola\")\n",
    "startUpData['StartupName'] = startUpData['StartupName'].str.replace(\"Olacabs\",\"Ola\")\n",
    "\n",
    "##Change the investmentType to appropriate value\n",
    "startUpData['InvestmentType'].replace(\"PrivateEquity\",\"Private Equity\",inplace=True)\n",
    "startUpData['InvestmentType'].replace(\"SeedFunding\",\"Seed Funding\",inplace=True)\n",
    "startUpData['InvestmentType'].replace(\"Crowd funding\",\"Crowd Funding\",inplace=True)\n",
    "\n",
    "##Added filter to filter the Seed Funding and Crowd Funding\n",
    "seedFilter = startUpData['InvestmentType'] == 'Seed Funding'\n",
    "crowdFilter = startUpData['InvestmentType'] == 'Crowd Funding'\n",
    "startUpData.where(seedFilter | crowdFilter, inplace = True)\n",
    "\n",
    "##fillna InvestorsName with -- for easy manupulation\n",
    "startUpData['InvestorsName'].fillna(\"--\",inplace=True)\n",
    "startUpData['InvestmentType'].fillna(\"--\",inplace=True)\n",
    "\n",
    "##Multiple investors for single startup, so i have splited the those as each value\n",
    "startUpData = startUpData.assign(InvestorsName=startUpData.InvestorsName.str.split(',')).explode('InvestorsName')\n",
    "\n",
    "startUpData['InvestorsName'] = startUpData['InvestorsName'].str.strip()\n",
    "\n",
    "\n",
    "investorGroup = startUpData.groupby('InvestorsName')\n",
    "\n",
    "uniqueInvestorList = startUpData['InvestorsName'].unique()\n",
    "\n",
    "dictionary = {}\n",
    "for investor in uniqueInvestorList:\n",
    "    ##Undisclosed,-- and emnpty values are not fit for manipulation,so removing\n",
    "    if investor == \"--\" or investor.startswith('Undisclosed') or investor == \"\":\n",
    "        continue\n",
    "    else:\n",
    "        groupValue = investorGroup.get_group(investor)\n",
    "        #Split investor's with number of count after filtering the seed funding and crowd funding\n",
    "        count = len(groupValue['StartupName'].unique())\n",
    "        dictionary[investor] = count\n",
    "        \n",
    "\n",
    "investorDataFrame = pd.DataFrame(list(dictionary.values()),list(dictionary.keys()))\n",
    "investorDataFrame = investorDataFrame.sort_values(by=[0],ascending=False)\n",
    "resultList = investorDataFrame[:5][0]\n",
    "\n",
    "for index in range(5):\n",
    "    print(resultList.index[index] + \" invested \" + str(resultList.values[index]) + \" times as Seed Funding or Crowd Funding\")\n",
    "    \n",
    "    \n",
    "x_pos = [10,35,60,85,105]\n",
    "print(\"Question -4:--\")\n",
    "react = plt.bar(x_pos, resultList.values,width=10,color=\"pink\")\n",
    "plt.xticks(x_pos, resultList.index,rotation=90)\n",
    "plt.ylabel('No. of Investments')\n",
    "plt.xlabel('Investors')\n",
    "plt.title('Top Investors with Seed Funding and Crowd Funding')\n",
    "\n",
    "for i in react:\n",
    "    height = i.get_height()\n",
    "    plt.text(i.get_x()+i.get_width()/2.0,.05*height,str(height),ha='center',va='bottom')\n",
    "\n",
    "plt.show()    "
   ]
  }
 ],
 "metadata": {
  "kernelspec": {
   "display_name": "Python 3",
   "language": "python",
   "name": "python3"
  },
  "language_info": {
   "codemirror_mode": {
    "name": "ipython",
    "version": 3
   },
   "file_extension": ".py",
   "mimetype": "text/x-python",
   "name": "python",
   "nbconvert_exporter": "python",
   "pygments_lexer": "ipython3",
   "version": "3.7.6"
  }
 },
 "nbformat": 4,
 "nbformat_minor": 4
}
