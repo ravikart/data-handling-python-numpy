{
 "cells": [
  {
   "cell_type": "code",
   "execution_count": null,
   "metadata": {},
   "outputs": [],
   "source": [
    "import csv\n",
    "import numpy as np\n",
    "\n",
    "with open('terrorismData.csv','r',encoding='utf-8') as fileObject:\n",
    "    fileData  = csv.DictReader(fileObject,delimiter=',',skipinitialspace=True)\n",
    "    \n",
    "    killed=[]\n",
    "    Day = []\n",
    "    for row in fileData:\n",
    "        #print(row['Killed'])\n",
    "        if(row['Killed'] == ''):\n",
    "            killed.append(0)\n",
    "        else:\n",
    "            killed.append(int(float(row['Killed'])))\n",
    "        Day.append(row['Day'])\n",
    "        \n",
    "    np_killed = np.array(killed)\n",
    "    np_country = np.array(country)\n",
    "    boolean_arr = (np_country == 'United States')\n",
    "    #print(boolean_arr)\n",
    "    \n",
    "    resultData= np_killed[boolean_arr]\n",
    "    \n",
    "    for i in resultData:\n",
    "        print(i)\n",
    "    \n",
    "    "
   ]
  }
 ],
 "metadata": {
  "kernelspec": {
   "display_name": "Python 3",
   "language": "python",
   "name": "python3"
  },
  "language_info": {
   "codemirror_mode": {
    "name": "ipython",
    "version": 3
   },
   "file_extension": ".py",
   "mimetype": "text/x-python",
   "name": "python",
   "nbconvert_exporter": "python",
   "pygments_lexer": "ipython3",
   "version": "3.7.6"
  }
 },
 "nbformat": 4,
 "nbformat_minor": 4
}
