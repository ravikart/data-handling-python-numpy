{
 "cells": [
  {
   "cell_type": "code",
   "execution_count": 18,
   "metadata": {},
   "outputs": [
    {
     "name": "stdout",
     "output_type": "stream",
     "text": [
      "3771\n"
     ]
    }
   ],
   "source": [
    "import csv\n",
    "import numpy as np\n",
    "\n",
    "with open('terrorismData.csv','r',encoding='utf-8') as fileObject:\n",
    "    fileData  = csv.DictReader(fileObject,delimiter=',',skipinitialspace=True)\n",
    "    \n",
    "    killed=[]\n",
    "    country = []\n",
    "    for row in fileData:\n",
    "        #print(row['Killed'])\n",
    "        if(row['Killed'] == ''):\n",
    "            killed.append(0)\n",
    "        else:\n",
    "            killed.append(int(float(row['Killed'])))\n",
    "        country.append(row['Country'])\n",
    "        \n",
    "    np_killed = np.array(killed)\n",
    "    np_country = np.array(country)\n",
    "    boolean_arr = (np_country == 'United States')\n",
    "    #print(boolean_arr)\n",
    "    \n",
    "    resultData= np_killed[boolean_arr]\n",
    "    \n",
    "    print(np.sum(resultData))\n",
    "    \n",
    "    "
   ]
  }
 ],
 "metadata": {
  "kernelspec": {
   "display_name": "Python 3",
   "language": "python",
   "name": "python3"
  },
  "language_info": {
   "codemirror_mode": {
    "name": "ipython",
    "version": 3
   },
   "file_extension": ".py",
   "mimetype": "text/x-python",
   "name": "python",
   "nbconvert_exporter": "python",
   "pygments_lexer": "ipython3",
   "version": "3.7.6"
  }
 },
 "nbformat": 4,
 "nbformat_minor": 4
}
